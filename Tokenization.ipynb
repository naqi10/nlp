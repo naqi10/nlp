{
 "cells": [
  {
   "cell_type": "code",
   "execution_count": 1,
   "id": "40576c03-3b2f-4a61-8633-62d4bf749ee2",
   "metadata": {},
   "outputs": [],
   "source": [
    "import spacy"
   ]
  },
  {
   "cell_type": "code",
   "execution_count": 2,
   "id": "3ca26f2d-a624-40e2-bf80-a15ce3f636de",
   "metadata": {},
   "outputs": [
    {
     "name": "stdout",
     "output_type": "stream",
     "text": [
      "Mastering Data Visualization Techniques from Basics to Advanced.\n",
      "You can build a strong Data career\n"
     ]
    }
   ],
   "source": [
    "nlp = spacy.load(\"en_core_web_sm\")\n",
    "doc = nlp(\"Mastering Data Visualization Techniques from Basics to Advanced.You can build a strong Data career\")\n",
    "for sentence in doc.sents:\n",
    "    print(sentence)"
   ]
  },
  {
   "cell_type": "code",
   "execution_count": 3,
   "id": "7786b6e0-c19e-4078-9f2e-d1e026f96101",
   "metadata": {},
   "outputs": [
    {
     "name": "stdout",
     "output_type": "stream",
     "text": [
      "Mastering\n",
      "Data\n",
      "Visualization\n",
      "Techniques\n",
      "from\n",
      "Basics\n",
      "to\n",
      "Advanced\n",
      ".\n",
      "You\n",
      "can\n",
      "build\n",
      "a\n",
      "strong\n",
      "Data\n",
      "career\n"
     ]
    }
   ],
   "source": [
    "for sentence in doc.sents:\n",
    "    for word in sentence:\n",
    "        print(word)"
   ]
  },
  {
   "cell_type": "code",
   "execution_count": 4,
   "id": "f1701e39-baae-45c6-971f-75964dc4fef7",
   "metadata": {},
   "outputs": [
    {
     "name": "stderr",
     "output_type": "stream",
     "text": [
      "[nltk_data] Downloading package punkt to\n",
      "[nltk_data]     C:\\Users\\Microsoft\\AppData\\Roaming\\nltk_data...\n",
      "[nltk_data]   Package punkt is already up-to-date!\n",
      "[nltk_data] Downloading package punkt_tab to\n",
      "[nltk_data]     C:\\Users\\Microsoft\\AppData\\Roaming\\nltk_data...\n",
      "[nltk_data]   Package punkt_tab is already up-to-date!\n"
     ]
    },
    {
     "data": {
      "text/plain": [
       "True"
      ]
     },
     "execution_count": 4,
     "metadata": {},
     "output_type": "execute_result"
    }
   ],
   "source": [
    "import nltk\n",
    "nltk.download('punkt')\n",
    "nltk.download('punkt_tab')"
   ]
  },
  {
   "cell_type": "code",
   "execution_count": 5,
   "id": "d2e0f9fd-3a1d-403f-8101-b194b27c52c6",
   "metadata": {},
   "outputs": [
    {
     "data": {
      "text/plain": [
       "['Mastering Data Visualization Techniques from Basics to Advanced.',\n",
       " 'You can build a strong Data career']"
      ]
     },
     "execution_count": 5,
     "metadata": {},
     "output_type": "execute_result"
    }
   ],
   "source": [
    "from nltk.tokenize import sent_tokenize\n",
    "sent_tokenize(\"Mastering Data Visualization Techniques from Basics to Advanced. You can build a strong Data career\")"
   ]
  },
  {
   "cell_type": "code",
   "execution_count": 6,
   "id": "c324a43a-f526-46ea-8d79-a5dcf4ec55f5",
   "metadata": {},
   "outputs": [
    {
     "data": {
      "text/plain": [
       "['Mastering',\n",
       " 'Data',\n",
       " 'Visualization',\n",
       " 'Techniques',\n",
       " 'from',\n",
       " 'Basics',\n",
       " 'to',\n",
       " 'Advanced',\n",
       " '.',\n",
       " 'You',\n",
       " 'can',\n",
       " 'build',\n",
       " 'a',\n",
       " 'strong',\n",
       " 'Data',\n",
       " 'career']"
      ]
     },
     "execution_count": 6,
     "metadata": {},
     "output_type": "execute_result"
    }
   ],
   "source": [
    "from nltk.tokenize import word_tokenize\n",
    "word_tokenize(\"Mastering Data Visualization Techniques from Basics to Advanced. You can build a strong Data career\")"
   ]
  },
  {
   "cell_type": "code",
   "execution_count": 7,
   "id": "38aec524-b1f3-42ef-89fa-da065f212d4d",
   "metadata": {},
   "outputs": [
    {
     "name": "stdout",
     "output_type": "stream",
     "text": [
      "Mastering\n",
      "Data\n",
      "Visualization\n",
      "Techniques\n",
      "from\n",
      "Basics\n",
      "to\n",
      "Advanced\n",
      ".\n",
      "You\n",
      "can\n",
      "build\n",
      "a\n",
      "strong\n",
      "Data\n",
      "career\n"
     ]
    }
   ],
   "source": [
    "doc = nlp(\"Mastering Data Visualization Techniques from Basics to Advanced. You can build a strong Data career\")\n",
    "for token in doc:\n",
    "    print(token)"
   ]
  },
  {
   "cell_type": "code",
   "execution_count": 8,
   "id": "9a4c3e06-2dee-4310-85c1-aa2a7e8f7fe6",
   "metadata": {},
   "outputs": [
    {
     "data": {
      "text/plain": [
       "Mastering"
      ]
     },
     "execution_count": 8,
     "metadata": {},
     "output_type": "execute_result"
    }
   ],
   "source": [
    "doc[0]"
   ]
  },
  {
   "cell_type": "code",
   "execution_count": 10,
   "id": "60dc2643-013d-4de0-83f8-f56d4ffc720b",
   "metadata": {},
   "outputs": [
    {
     "data": {
      "text/plain": [
       "Tony"
      ]
     },
     "execution_count": 10,
     "metadata": {},
     "output_type": "execute_result"
    }
   ],
   "source": [
    "doc = nlp(\"Tony gave two $ to peter.\")\n",
    "token0 = doc[0]\n",
    "token0"
   ]
  },
  {
   "cell_type": "code",
   "execution_count": 11,
   "id": "5c0ee45a-d62b-4502-9386-8bf188cc41cf",
   "metadata": {},
   "outputs": [
    {
     "data": {
      "text/plain": [
       "['_',\n",
       " '__bytes__',\n",
       " '__class__',\n",
       " '__delattr__',\n",
       " '__dir__',\n",
       " '__doc__',\n",
       " '__eq__',\n",
       " '__format__',\n",
       " '__ge__',\n",
       " '__getattribute__',\n",
       " '__getstate__',\n",
       " '__gt__',\n",
       " '__hash__',\n",
       " '__init__',\n",
       " '__init_subclass__',\n",
       " '__le__',\n",
       " '__len__',\n",
       " '__lt__',\n",
       " '__ne__',\n",
       " '__new__',\n",
       " '__pyx_vtable__',\n",
       " '__reduce__',\n",
       " '__reduce_ex__',\n",
       " '__repr__',\n",
       " '__setattr__',\n",
       " '__sizeof__',\n",
       " '__str__',\n",
       " '__subclasshook__',\n",
       " '__unicode__',\n",
       " 'ancestors',\n",
       " 'check_flag',\n",
       " 'children',\n",
       " 'cluster',\n",
       " 'conjuncts',\n",
       " 'dep',\n",
       " 'dep_',\n",
       " 'doc',\n",
       " 'ent_id',\n",
       " 'ent_id_',\n",
       " 'ent_iob',\n",
       " 'ent_iob_',\n",
       " 'ent_kb_id',\n",
       " 'ent_kb_id_',\n",
       " 'ent_type',\n",
       " 'ent_type_',\n",
       " 'get_extension',\n",
       " 'has_dep',\n",
       " 'has_extension',\n",
       " 'has_head',\n",
       " 'has_morph',\n",
       " 'has_vector',\n",
       " 'head',\n",
       " 'i',\n",
       " 'idx',\n",
       " 'iob_strings',\n",
       " 'is_alpha',\n",
       " 'is_ancestor',\n",
       " 'is_ascii',\n",
       " 'is_bracket',\n",
       " 'is_currency',\n",
       " 'is_digit',\n",
       " 'is_left_punct',\n",
       " 'is_lower',\n",
       " 'is_oov',\n",
       " 'is_punct',\n",
       " 'is_quote',\n",
       " 'is_right_punct',\n",
       " 'is_sent_end',\n",
       " 'is_sent_start',\n",
       " 'is_space',\n",
       " 'is_stop',\n",
       " 'is_title',\n",
       " 'is_upper',\n",
       " 'lang',\n",
       " 'lang_',\n",
       " 'left_edge',\n",
       " 'lefts',\n",
       " 'lemma',\n",
       " 'lemma_',\n",
       " 'lex',\n",
       " 'lex_id',\n",
       " 'like_email',\n",
       " 'like_num',\n",
       " 'like_url',\n",
       " 'lower',\n",
       " 'lower_',\n",
       " 'morph',\n",
       " 'n_lefts',\n",
       " 'n_rights',\n",
       " 'nbor',\n",
       " 'norm',\n",
       " 'norm_',\n",
       " 'orth',\n",
       " 'orth_',\n",
       " 'pos',\n",
       " 'pos_',\n",
       " 'prefix',\n",
       " 'prefix_',\n",
       " 'prob',\n",
       " 'rank',\n",
       " 'remove_extension',\n",
       " 'right_edge',\n",
       " 'rights',\n",
       " 'sent',\n",
       " 'sent_start',\n",
       " 'sentiment',\n",
       " 'set_extension',\n",
       " 'set_morph',\n",
       " 'shape',\n",
       " 'shape_',\n",
       " 'similarity',\n",
       " 'subtree',\n",
       " 'suffix',\n",
       " 'suffix_',\n",
       " 'tag',\n",
       " 'tag_',\n",
       " 'tensor',\n",
       " 'text',\n",
       " 'text_with_ws',\n",
       " 'vector',\n",
       " 'vector_norm',\n",
       " 'vocab',\n",
       " 'whitespace_']"
      ]
     },
     "execution_count": 11,
     "metadata": {},
     "output_type": "execute_result"
    }
   ],
   "source": [
    "dir(token0)"
   ]
  },
  {
   "cell_type": "code",
   "execution_count": 12,
   "id": "3897e749-b8e7-47e9-9350-2e681d80388e",
   "metadata": {},
   "outputs": [
    {
     "data": {
      "text/plain": [
       "True"
      ]
     },
     "execution_count": 12,
     "metadata": {},
     "output_type": "execute_result"
    }
   ],
   "source": [
    "token0.is_alpha"
   ]
  },
  {
   "cell_type": "code",
   "execution_count": 13,
   "id": "1e65c532-474e-4db9-b3b0-d1120e1067e3",
   "metadata": {},
   "outputs": [
    {
     "data": {
      "text/plain": [
       "False"
      ]
     },
     "execution_count": 13,
     "metadata": {},
     "output_type": "execute_result"
    }
   ],
   "source": [
    "token0.like_num"
   ]
  },
  {
   "cell_type": "code",
   "execution_count": 14,
   "id": "0f90b79e-94e6-40ec-b5e0-c2c63548807c",
   "metadata": {},
   "outputs": [
    {
     "data": {
      "text/plain": [
       "'two'"
      ]
     },
     "execution_count": 14,
     "metadata": {},
     "output_type": "execute_result"
    }
   ],
   "source": [
    "token2 = doc[2]\n",
    "token2.text"
   ]
  },
  {
   "cell_type": "code",
   "execution_count": 15,
   "id": "ab1459f4-b814-41cf-a8be-baeec3f8ac70",
   "metadata": {},
   "outputs": [
    {
     "data": {
      "text/plain": [
       "True"
      ]
     },
     "execution_count": 15,
     "metadata": {},
     "output_type": "execute_result"
    }
   ],
   "source": [
    "token2.like_num"
   ]
  },
  {
   "cell_type": "code",
   "execution_count": 16,
   "id": "e71fb825-2964-4812-9cbc-bd836083ebe8",
   "metadata": {},
   "outputs": [
    {
     "data": {
      "text/plain": [
       "True"
      ]
     },
     "execution_count": 16,
     "metadata": {},
     "output_type": "execute_result"
    }
   ],
   "source": [
    "token3 = doc[3]\n",
    "token3.is_currency"
   ]
  },
  {
   "cell_type": "code",
   "execution_count": 17,
   "id": "c17676fd-762c-48c6-8a5f-fd9fae07d16f",
   "metadata": {},
   "outputs": [
    {
     "data": {
      "text/plain": [
       "['Name: Alice Johnson\\n',\n",
       " '   Email: alice.johnson@example.com\\n',\n",
       " '   DOB: 2002-05-14\\n',\n",
       " '\\n',\n",
       " ' Name: Brian Carter\\n',\n",
       " '   Email: brian.carter@example.com\\n',\n",
       " '   DOB: 2001-09-21\\n',\n",
       " '\\n',\n",
       " ' Name: Clara Evans\\n',\n",
       " '   Email: clara.evans@example.com\\n',\n",
       " '   DOB: 2003-03-07\\n',\n",
       " '\\n',\n",
       " ' Name: David Smith\\n',\n",
       " '   Email: david.smith@example.com\\n',\n",
       " '   DOB: 2000-12-10\\n',\n",
       " '\\n',\n",
       " ' Name: Emily Brown\\n',\n",
       " '   Email: emily.brown@example.com\\n',\n",
       " '   DOB: 2002-07-19']"
      ]
     },
     "execution_count": 17,
     "metadata": {},
     "output_type": "execute_result"
    }
   ],
   "source": [
    "with open('students.text.txt') as f:\n",
    "    text = f.readlines()\n",
    "text"
   ]
  },
  {
   "cell_type": "code",
   "execution_count": 18,
   "id": "bfa0de1b-f2ad-4884-98eb-686d046e1949",
   "metadata": {},
   "outputs": [
    {
     "data": {
      "text/plain": [
       "'Name: Alice Johnson\\n    Email: alice.johnson@example.com\\n    DOB: 2002-05-14\\n \\n  Name: Brian Carter\\n    Email: brian.carter@example.com\\n    DOB: 2001-09-21\\n \\n  Name: Clara Evans\\n    Email: clara.evans@example.com\\n    DOB: 2003-03-07\\n \\n  Name: David Smith\\n    Email: david.smith@example.com\\n    DOB: 2000-12-10\\n \\n  Name: Emily Brown\\n    Email: emily.brown@example.com\\n    DOB: 2002-07-19'"
      ]
     },
     "execution_count": 18,
     "metadata": {},
     "output_type": "execute_result"
    }
   ],
   "source": [
    "text = ' '.join(text) \n",
    "text"
   ]
  },
  {
   "cell_type": "code",
   "execution_count": 19,
   "id": "7536e3b8-b817-421e-acd6-2e94574c4789",
   "metadata": {},
   "outputs": [
    {
     "data": {
      "text/plain": [
       "['alice.johnson@example.com',\n",
       " 'brian.carter@example.com',\n",
       " 'clara.evans@example.com',\n",
       " 'david.smith@example.com',\n",
       " 'emily.brown@example.com']"
      ]
     },
     "execution_count": 19,
     "metadata": {},
     "output_type": "execute_result"
    }
   ],
   "source": [
    "doc = nlp(text)\n",
    "emails = []\n",
    "for token in doc:\n",
    "    if token.like_email:\n",
    "        emails.append(token.text)\n",
    "emails"
   ]
  },
  {
   "cell_type": "code",
   "execution_count": null,
   "id": "90e75481-ee2a-4175-a526-00e70bbe6442",
   "metadata": {},
   "outputs": [],
   "source": []
  }
 ],
 "metadata": {
  "kernelspec": {
   "display_name": "Python 3 (ipykernel)",
   "language": "python",
   "name": "python3"
  },
  "language_info": {
   "codemirror_mode": {
    "name": "ipython",
    "version": 3
   },
   "file_extension": ".py",
   "mimetype": "text/x-python",
   "name": "python",
   "nbconvert_exporter": "python",
   "pygments_lexer": "ipython3",
   "version": "3.12.5"
  }
 },
 "nbformat": 4,
 "nbformat_minor": 5
}

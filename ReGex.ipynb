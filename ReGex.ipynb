{
 "cells": [
  {
   "cell_type": "code",
   "execution_count": 1,
   "id": "502d76d8-ac4e-41d8-9feb-a711400f815c",
   "metadata": {},
   "outputs": [],
   "source": [
    "import re"
   ]
  },
  {
   "cell_type": "code",
   "execution_count": 2,
   "id": "0729b0cf-aa25-4de3-9367-16ba2f57f5d1",
   "metadata": {},
   "outputs": [],
   "source": [
    "tweet = \"Loving the #AI world! #Python is amazing. Follow for more updates. #NLP #DataScience , 1234567892,naqI_2021@gmail.com\"\n",
    "emails = [\"test.email@example.com\", \"invalid-email@\", \"user@domain.org\", \"@missingusername.com\", \"(123)-456-7892\"]\n",
    "text = \"Important dates are 15/01/2025 and 01/02/2024. Don't forget 30/12/2023!\""
   ]
  },
  {
   "cell_type": "code",
   "execution_count": 3,
   "id": "545fee0e-8726-4a55-8afe-15303fc84f3b",
   "metadata": {},
   "outputs": [
    {
     "name": "stdout",
     "output_type": "stream",
     "text": [
      "Matches: ['#AI', '#Python', '#NLP', '#DataScience']\n",
      "Numbers: ['1234567892']\n"
     ]
    }
   ],
   "source": [
    "pattern = r\"#\\w+\"\n",
    "pattern2 = r\"\\d{10}|\\(\\d{3}\\)-\\d{3}-\\d{4}\"\n",
    "matches = re.findall(pattern, tweet)\n",
    "numbers = re.findall(pattern2, tweet)\n",
    "print(\"Matches:\", matches)\n",
    "print(\"Numbers:\", numbers)\n"
   ]
  },
  {
   "cell_type": "code",
   "execution_count": 4,
   "id": "7622e6d8-bef7-44fd-99e4-d3f20ecb8368",
   "metadata": {},
   "outputs": [
    {
     "name": "stdout",
     "output_type": "stream",
     "text": [
      "Results: ['email@example.com', 'user@domain.org', '@missingusername.com']\n"
     ]
    }
   ],
   "source": [
    "emails_str = \" \".join(emails)\n",
    "pat3 = r'[a-zA-Z0-9_]*@[a-z0-9]*\\.[a-zA-Z]*'\n",
    "\n",
    "results = re.findall(pat3, emails_str)\n",
    "print(\"Results:\", results)"
   ]
  },
  {
   "cell_type": "code",
   "execution_count": 5,
   "id": "4ba1264b-9a5a-404f-a0d3-610cac5178d7",
   "metadata": {},
   "outputs": [],
   "source": [
    "text = '''Born\tElon Reeve Musk\n",
    "June 28, 1971 (age 53)\n",
    "Pretoria, Transvaal, South Africa\n",
    "Citizenship\t\n",
    "South Africa\n",
    "Canada (from 1989)\n",
    "United States (from 2002)\n",
    "Political party\tRepublican\n",
    "Spouses\t\n",
    "Justine Wilson\n",
    "​\n",
    "​(m. 2000; div. 2008)​\n",
    "Talulah Riley\n",
    "​\n",
    "​(m. 2010; div. 2012)​\n",
    "​\n",
    "​(m. 2013; div. 2016)\n",
    "'''"
   ]
  },
  {
   "cell_type": "code",
   "execution_count": 6,
   "id": "39993e43-aa72-4956-928d-dc6a521fcf73",
   "metadata": {},
   "outputs": [
    {
     "name": "stdout",
     "output_type": "stream",
     "text": [
      "age: ['53']\n"
     ]
    }
   ],
   "source": [
    "pat4 = r\"age (\\d+)\"\n",
    "age = re.findall(pat4, text)\n",
    "print(\"age:\", age)"
   ]
  },
  {
   "cell_type": "code",
   "execution_count": 9,
   "id": "9c70b89e-15af-40c9-81fd-06dbcc1aeca7",
   "metadata": {},
   "outputs": [
    {
     "data": {
      "text/plain": [
       "'Elon Reeve Musk'"
      ]
     },
     "execution_count": 9,
     "metadata": {},
     "output_type": "execute_result"
    }
   ],
   "source": [
    "pat5 = \"Born(.*)\"\n",
    "name = re.findall(pat5, text)\n",
    "name[0].strip()"
   ]
  },
  {
   "cell_type": "code",
   "execution_count": 16,
   "id": "e8059ad3-91f8-41b8-9968-2c94901b9445",
   "metadata": {},
   "outputs": [
    {
     "data": {
      "text/plain": [
       "'June 28, 1971'"
      ]
     },
     "execution_count": 16,
     "metadata": {},
     "output_type": "execute_result"
    }
   ],
   "source": [
    "pat6 = r\"Born.*\\n(.*)\\(age\"\n",
    "date = re.findall(pat6, text)\n",
    "date[0].strip()"
   ]
  },
  {
   "cell_type": "code",
   "execution_count": 18,
   "id": "af304326-7b12-45cc-be78-8c3014c5e236",
   "metadata": {},
   "outputs": [
    {
     "data": {
      "text/plain": [
       "['Pretoria, Transvaal, South Africa']"
      ]
     },
     "execution_count": 18,
     "metadata": {},
     "output_type": "execute_result"
    }
   ],
   "source": [
    "pat7 = r'\\(age.*\\n(.*)'\n",
    "birthLocate = re.findall(pat7, text)\n",
    "birthLocate"
   ]
  },
  {
   "cell_type": "code",
   "execution_count": null,
   "id": "7f31ef2c-5448-41da-8cc6-6094c917450b",
   "metadata": {},
   "outputs": [],
   "source": []
  }
 ],
 "metadata": {
  "kernelspec": {
   "display_name": "Python 3 (ipykernel)",
   "language": "python",
   "name": "python3"
  },
  "language_info": {
   "codemirror_mode": {
    "name": "ipython",
    "version": 3
   },
   "file_extension": ".py",
   "mimetype": "text/x-python",
   "name": "python",
   "nbconvert_exporter": "python",
   "pygments_lexer": "ipython3",
   "version": "3.12.5"
  }
 },
 "nbformat": 4,
 "nbformat_minor": 5
}

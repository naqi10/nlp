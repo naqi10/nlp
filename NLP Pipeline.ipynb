{
 "cells": [
  {
   "cell_type": "code",
   "execution_count": 1,
   "id": "8ca0a1b7-a8f1-412d-90da-c8b88fee95ee",
   "metadata": {},
   "outputs": [],
   "source": [
    "import spacy\n"
   ]
  },
  {
   "cell_type": "code",
   "execution_count": 2,
   "id": "30b32299-a87a-4364-b2dd-82cd5c0e2acc",
   "metadata": {},
   "outputs": [
    {
     "name": "stdout",
     "output_type": "stream",
     "text": [
      "Would\n",
      "you\n",
      "like\n",
      "this\n",
      "saved\n",
      "in\n",
      "a\n",
      "specific\n",
      "format\n",
      ",\n",
      "like\n",
      "JSON\n",
      "or\n",
      "CSV\n",
      ",\n",
      "or\n",
      "used\n",
      "in\n",
      "a\n",
      "Python\n",
      "script\n",
      "?\n"
     ]
    }
   ],
   "source": [
    "nlp = spacy.blank(\"en\")\n",
    "doc = nlp(\"Would you like this saved in a specific format, like JSON or CSV, or used in a Python script?\")\n",
    "for token in doc:\n",
    "    print(token)"
   ]
  },
  {
   "cell_type": "code",
   "execution_count": 3,
   "id": "d7a841bf-1384-4224-934a-d541433e2d73",
   "metadata": {},
   "outputs": [
    {
     "data": {
      "text/plain": [
       "[]"
      ]
     },
     "execution_count": 3,
     "metadata": {},
     "output_type": "execute_result"
    }
   ],
   "source": [
    "nlp.pipe_names"
   ]
  },
  {
   "cell_type": "code",
   "execution_count": 5,
   "id": "13581a3c-9f40-43ab-be04-b10c07222e06",
   "metadata": {},
   "outputs": [
    {
     "data": {
      "text/plain": [
       "['tok2vec', 'tagger', 'parser', 'attribute_ruler', 'lemmatizer', 'ner']"
      ]
     },
     "execution_count": 5,
     "metadata": {},
     "output_type": "execute_result"
    }
   ],
   "source": [
    "nlp.pipe_names"
   ]
  },
  {
   "cell_type": "code",
   "execution_count": 9,
   "id": "16e7faa8-5f12-477e-9751-7f133da00e70",
   "metadata": {},
   "outputs": [
    {
     "name": "stdout",
     "output_type": "stream",
     "text": [
      "Would  |  AUX  |  would\n",
      "you  |  PRON  |  you\n",
      "like  |  VERB  |  like\n",
      "this  |  PRON  |  this\n",
      "saved  |  VERB  |  save\n",
      "in  |  ADP  |  in\n",
      "a  |  DET  |  a\n",
      "specific  |  ADJ  |  specific\n",
      "format  |  NOUN  |  format\n",
      "Micheal  |  PROPN  |  Micheal\n",
      ",  |  PUNCT  |  ,\n",
      "like  |  ADP  |  like\n",
      "JSON  |  NOUN  |  json\n",
      "or  |  CCONJ  |  or\n",
      "CSV  |  PROPN  |  CSV\n",
      ",  |  PUNCT  |  ,\n",
      "or  |  CCONJ  |  or\n",
      "used  |  VERB  |  use\n",
      "in  |  ADP  |  in\n",
      "a  |  DET  |  a\n",
      "Python  |  PROPN  |  Python\n",
      "script  |  NOUN  |  script\n",
      "?  |  PUNCT  |  ?\n"
     ]
    }
   ],
   "source": [
    "\n",
    "nlp = spacy.load(\"en_core_web_sm\")\n",
    "\n",
    "doc = nlp(\"Would you like this saved in a specific format Micheal, like JSON or CSV, or used in a Python script?\")\n",
    "\n",
    "# Print tokens with their POS tags and lemmas\n",
    "for token in doc:\n",
    "    print(token.text, \" | \", token.pos_, \" | \", token.lemma_)\n"
   ]
  },
  {
   "cell_type": "code",
   "execution_count": 10,
   "id": "81c9a55c-a6e3-472f-97cc-c03bac9282a2",
   "metadata": {},
   "outputs": [
    {
     "name": "stdout",
     "output_type": "stream",
     "text": [
      "Tesla Inc  |  ORG  |  Companies, agencies, institutions, etc.\n",
      "$45 billion  |  MONEY  |  Monetary values, including unit\n"
     ]
    }
   ],
   "source": [
    "doc = nlp(\"Tesla Inc is going to acquire twitter for $45 billion\")\n",
    "for ent in doc.ents:\n",
    "    print(ent.text, \" | \", ent.label_, \" | \", spacy.explain(ent.label_))"
   ]
  },
  {
   "cell_type": "code",
   "execution_count": null,
   "id": "0e18bdb1-ce44-4af3-b7d3-2c0a07d9cf5b",
   "metadata": {},
   "outputs": [],
   "source": []
  }
 ],
 "metadata": {
  "kernelspec": {
   "display_name": "Python 3 (ipykernel)",
   "language": "python",
   "name": "python3"
  },
  "language_info": {
   "codemirror_mode": {
    "name": "ipython",
    "version": 3
   },
   "file_extension": ".py",
   "mimetype": "text/x-python",
   "name": "python",
   "nbconvert_exporter": "python",
   "pygments_lexer": "ipython3",
   "version": "3.12.5"
  }
 },
 "nbformat": 4,
 "nbformat_minor": 5
}
